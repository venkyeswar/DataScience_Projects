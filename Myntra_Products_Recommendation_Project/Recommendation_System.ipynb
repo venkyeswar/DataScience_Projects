{
 "cells": [
  {
   "cell_type": "markdown",
   "id": "61a33ab0-ab91-4222-a78a-638a3b2eb3c4",
   "metadata": {},
   "source": [
    "# Project : Myntra Products Recommendation"
   ]
  },
  {
   "cell_type": "code",
   "execution_count": 1,
   "id": "8282eb10-b24d-4cb2-b8ad-174e1367b5fe",
   "metadata": {},
   "outputs": [],
   "source": [
    "# Import Necessary Libraries\n",
    "import numpy as np\n",
    "import pandas as pd\n",
    "import matplotlib.pyplot as plt\n",
    "import seaborn as sns\n",
    "import warnings\n",
    "warnings.filterwarnings(\"ignore\")"
   ]
  },
  {
   "cell_type": "code",
   "execution_count": 2,
   "id": "c26d56bc-c043-43bf-9e1c-07bd18b5235c",
   "metadata": {},
   "outputs": [],
   "source": [
    "df = pd.read_csv(\"dataset.csv\")"
   ]
  },
  {
   "cell_type": "code",
   "execution_count": 3,
   "id": "c4e47680-acbb-43ca-8c20-215bbaff056d",
   "metadata": {},
   "outputs": [
    {
     "name": "stdout",
     "output_type": "stream",
     "text": [
      "<class 'pandas.core.frame.DataFrame'>\n",
      "RangeIndex: 1060213 entries, 0 to 1060212\n",
      "Data columns (total 11 columns):\n",
      " #   Column       Non-Null Count    Dtype  \n",
      "---  ------       --------------    -----  \n",
      " 0   id           1060213 non-null  int64  \n",
      " 1   name         1060213 non-null  object \n",
      " 2   img          1060213 non-null  object \n",
      " 3   asin         1060213 non-null  object \n",
      " 4   price        1060213 non-null  float64\n",
      " 5   mrp          1060213 non-null  float64\n",
      " 6   rating       1060213 non-null  float64\n",
      " 7   ratingTotal  1060213 non-null  int64  \n",
      " 8   discount     1060213 non-null  int64  \n",
      " 9   seller       1060213 non-null  object \n",
      " 10  purl         1060213 non-null  object \n",
      "dtypes: float64(3), int64(3), object(5)\n",
      "memory usage: 89.0+ MB\n"
     ]
    }
   ],
   "source": [
    "df.info()"
   ]
  },
  {
   "cell_type": "code",
   "execution_count": 4,
   "id": "f95a266b-75da-4841-a3b3-b7aec0566913",
   "metadata": {},
   "outputs": [
    {
     "data": {
      "text/html": [
       "<div>\n",
       "<style scoped>\n",
       "    .dataframe tbody tr th:only-of-type {\n",
       "        vertical-align: middle;\n",
       "    }\n",
       "\n",
       "    .dataframe tbody tr th {\n",
       "        vertical-align: top;\n",
       "    }\n",
       "\n",
       "    .dataframe thead th {\n",
       "        text-align: right;\n",
       "    }\n",
       "</style>\n",
       "<table border=\"1\" class=\"dataframe\">\n",
       "  <thead>\n",
       "    <tr style=\"text-align: right;\">\n",
       "      <th></th>\n",
       "      <th>id</th>\n",
       "      <th>name</th>\n",
       "      <th>img</th>\n",
       "      <th>asin</th>\n",
       "      <th>price</th>\n",
       "      <th>mrp</th>\n",
       "      <th>rating</th>\n",
       "      <th>ratingTotal</th>\n",
       "      <th>discount</th>\n",
       "      <th>seller</th>\n",
       "      <th>purl</th>\n",
       "    </tr>\n",
       "  </thead>\n",
       "  <tbody>\n",
       "    <tr>\n",
       "      <th>0</th>\n",
       "      <td>1</td>\n",
       "      <td>Men Solid Oversized Cotton</td>\n",
       "      <td>https://assets.myntassets.com/f_webp,dpr_1.0,q...</td>\n",
       "      <td>-</td>\n",
       "      <td>532.0</td>\n",
       "      <td>1299.0</td>\n",
       "      <td>4.1</td>\n",
       "      <td>5300</td>\n",
       "      <td>59</td>\n",
       "      <td>Difference of Opinion</td>\n",
       "      <td>https://www.myntra.com/tshirts/difference-of-o...</td>\n",
       "    </tr>\n",
       "    <tr>\n",
       "      <th>1</th>\n",
       "      <td>2</td>\n",
       "      <td>Men Cotton Pure Cotton T-shirt</td>\n",
       "      <td>https://assets.myntassets.com/f_webp,dpr_1.0,q...</td>\n",
       "      <td>-</td>\n",
       "      <td>274.0</td>\n",
       "      <td>499.0</td>\n",
       "      <td>4.2</td>\n",
       "      <td>25400</td>\n",
       "      <td>45</td>\n",
       "      <td>Roadster</td>\n",
       "      <td>https://www.myntra.com/tshirts/roadster/roadst...</td>\n",
       "    </tr>\n",
       "    <tr>\n",
       "      <th>2</th>\n",
       "      <td>3</td>\n",
       "      <td>Women Pure Cotton T-shirt</td>\n",
       "      <td>https://assets.myntassets.com/f_webp,dpr_1.0,q...</td>\n",
       "      <td>-</td>\n",
       "      <td>551.0</td>\n",
       "      <td>1199.0</td>\n",
       "      <td>4.5</td>\n",
       "      <td>3400</td>\n",
       "      <td>54</td>\n",
       "      <td>DILLINGER</td>\n",
       "      <td>https://www.myntra.com/tshirts/dillinger/dilli...</td>\n",
       "    </tr>\n",
       "    <tr>\n",
       "      <th>3</th>\n",
       "      <td>4</td>\n",
       "      <td>Typography Print T-shirt</td>\n",
       "      <td>https://assets.myntassets.com/f_webp,dpr_1.0,q...</td>\n",
       "      <td>-</td>\n",
       "      <td>296.0</td>\n",
       "      <td>1099.0</td>\n",
       "      <td>4.0</td>\n",
       "      <td>18400</td>\n",
       "      <td>73</td>\n",
       "      <td>Huetrap</td>\n",
       "      <td>https://www.myntra.com/tshirts/huetrap/huetrap...</td>\n",
       "    </tr>\n",
       "    <tr>\n",
       "      <th>4</th>\n",
       "      <td>5</td>\n",
       "      <td>Printed Round Neck Pure Cotton T-shirt</td>\n",
       "      <td>https://assets.myntassets.com/f_webp,dpr_1.0,q...</td>\n",
       "      <td>-</td>\n",
       "      <td>494.0</td>\n",
       "      <td>899.0</td>\n",
       "      <td>4.2</td>\n",
       "      <td>3800</td>\n",
       "      <td>45</td>\n",
       "      <td>Roadster</td>\n",
       "      <td>https://www.myntra.com/tshirts/roadster/roadst...</td>\n",
       "    </tr>\n",
       "  </tbody>\n",
       "</table>\n",
       "</div>"
      ],
      "text/plain": [
       "   id                                    name  \\\n",
       "0   1              Men Solid Oversized Cotton   \n",
       "1   2          Men Cotton Pure Cotton T-shirt   \n",
       "2   3               Women Pure Cotton T-shirt   \n",
       "3   4                Typography Print T-shirt   \n",
       "4   5  Printed Round Neck Pure Cotton T-shirt   \n",
       "\n",
       "                                                 img asin  price     mrp  \\\n",
       "0  https://assets.myntassets.com/f_webp,dpr_1.0,q...    -  532.0  1299.0   \n",
       "1  https://assets.myntassets.com/f_webp,dpr_1.0,q...    -  274.0   499.0   \n",
       "2  https://assets.myntassets.com/f_webp,dpr_1.0,q...    -  551.0  1199.0   \n",
       "3  https://assets.myntassets.com/f_webp,dpr_1.0,q...    -  296.0  1099.0   \n",
       "4  https://assets.myntassets.com/f_webp,dpr_1.0,q...    -  494.0   899.0   \n",
       "\n",
       "   rating  ratingTotal  discount                 seller  \\\n",
       "0     4.1         5300        59  Difference of Opinion   \n",
       "1     4.2        25400        45               Roadster   \n",
       "2     4.5         3400        54              DILLINGER   \n",
       "3     4.0        18400        73                Huetrap   \n",
       "4     4.2         3800        45               Roadster   \n",
       "\n",
       "                                                purl  \n",
       "0  https://www.myntra.com/tshirts/difference-of-o...  \n",
       "1  https://www.myntra.com/tshirts/roadster/roadst...  \n",
       "2  https://www.myntra.com/tshirts/dillinger/dilli...  \n",
       "3  https://www.myntra.com/tshirts/huetrap/huetrap...  \n",
       "4  https://www.myntra.com/tshirts/roadster/roadst...  "
      ]
     },
     "execution_count": 4,
     "metadata": {},
     "output_type": "execute_result"
    }
   ],
   "source": [
    "df.head()"
   ]
  },
  {
   "cell_type": "code",
   "execution_count": 6,
   "id": "edeb2e90-2f40-4b0e-ab26-db76810a8c09",
   "metadata": {},
   "outputs": [
    {
     "data": {
      "text/plain": [
       "0"
      ]
     },
     "execution_count": 6,
     "metadata": {},
     "output_type": "execute_result"
    }
   ],
   "source": [
    "df.duplicated().sum()"
   ]
  },
  {
   "cell_type": "markdown",
   "id": "5e2aef11-ab12-49f0-bc2b-4565618c3655",
   "metadata": {},
   "source": [
    "## Popular products"
   ]
  },
  {
   "cell_type": "code",
   "execution_count": 69,
   "id": "3590ac4d-5b2f-4a59-a147-c16e10ad477e",
   "metadata": {},
   "outputs": [
    {
     "name": "stdout",
     "output_type": "stream",
     "text": [
      "<class 'pandas.core.frame.DataFrame'>\n",
      "Int64Index: 217738 entries, 0 to 1060204\n",
      "Data columns (total 11 columns):\n",
      " #   Column       Non-Null Count   Dtype  \n",
      "---  ------       --------------   -----  \n",
      " 0   id           217738 non-null  int64  \n",
      " 1   name         217738 non-null  object \n",
      " 2   img          217738 non-null  object \n",
      " 3   asin         217738 non-null  object \n",
      " 4   price        217738 non-null  float64\n",
      " 5   mrp          217738 non-null  float64\n",
      " 6   rating       217738 non-null  float64\n",
      " 7   ratingTotal  217738 non-null  int64  \n",
      " 8   discount     217738 non-null  int64  \n",
      " 9   seller       217738 non-null  object \n",
      " 10  purl         217738 non-null  object \n",
      "dtypes: float64(3), int64(3), object(5)\n",
      "memory usage: 19.9+ MB\n"
     ]
    }
   ],
   "source": [
    "data_unique.info()"
   ]
  },
  {
   "cell_type": "code",
   "execution_count": 72,
   "id": "b3d834a1-1e7e-407c-a745-e618e8591e54",
   "metadata": {},
   "outputs": [
    {
     "data": {
      "text/html": [
       "<div>\n",
       "<style scoped>\n",
       "    .dataframe tbody tr th:only-of-type {\n",
       "        vertical-align: middle;\n",
       "    }\n",
       "\n",
       "    .dataframe tbody tr th {\n",
       "        vertical-align: top;\n",
       "    }\n",
       "\n",
       "    .dataframe thead th {\n",
       "        text-align: right;\n",
       "    }\n",
       "</style>\n",
       "<table border=\"1\" class=\"dataframe\">\n",
       "  <thead>\n",
       "    <tr style=\"text-align: right;\">\n",
       "      <th></th>\n",
       "      <th>name</th>\n",
       "      <th>price</th>\n",
       "      <th>rating</th>\n",
       "      <th>discount</th>\n",
       "    </tr>\n",
       "  </thead>\n",
       "  <tbody>\n",
       "    <tr>\n",
       "      <th>0</th>\n",
       "      <td>toner-lotion-cream-lip balm</td>\n",
       "      <td>695.0</td>\n",
       "      <td>4.4</td>\n",
       "      <td>35</td>\n",
       "    </tr>\n",
       "    <tr>\n",
       "      <th>1</th>\n",
       "      <td>toner-sunscreen-lotion-cream</td>\n",
       "      <td>719.0</td>\n",
       "      <td>4.4</td>\n",
       "      <td>34</td>\n",
       "    </tr>\n",
       "    <tr>\n",
       "      <th>2</th>\n",
       "      <td>sustainable skin &amp; hair care</td>\n",
       "      <td>926.0</td>\n",
       "      <td>4.4</td>\n",
       "      <td>38</td>\n",
       "    </tr>\n",
       "    <tr>\n",
       "      <th>3</th>\n",
       "      <td>men pack of 2 printed tshirts</td>\n",
       "      <td>1598.0</td>\n",
       "      <td>4.2</td>\n",
       "      <td>0</td>\n",
       "    </tr>\n",
       "    <tr>\n",
       "      <th>4</th>\n",
       "      <td>serum-toner-scrub-cream</td>\n",
       "      <td>636.0</td>\n",
       "      <td>4.4</td>\n",
       "      <td>35</td>\n",
       "    </tr>\n",
       "    <tr>\n",
       "      <th>5</th>\n",
       "      <td>bio complete skin care kit</td>\n",
       "      <td>501.0</td>\n",
       "      <td>4.4</td>\n",
       "      <td>38</td>\n",
       "    </tr>\n",
       "    <tr>\n",
       "      <th>6</th>\n",
       "      <td>toner-lotion-eye gel-cream</td>\n",
       "      <td>1030.0</td>\n",
       "      <td>4.4</td>\n",
       "      <td>0</td>\n",
       "    </tr>\n",
       "    <tr>\n",
       "      <th>7</th>\n",
       "      <td>lipstick with mascara &amp; liner</td>\n",
       "      <td>1100.0</td>\n",
       "      <td>4.4</td>\n",
       "      <td>30</td>\n",
       "    </tr>\n",
       "    <tr>\n",
       "      <th>8</th>\n",
       "      <td>set of toner &amp; scrub &amp; cream</td>\n",
       "      <td>428.0</td>\n",
       "      <td>4.4</td>\n",
       "      <td>35</td>\n",
       "    </tr>\n",
       "    <tr>\n",
       "      <th>9</th>\n",
       "      <td>skincare daily routine combo</td>\n",
       "      <td>483.0</td>\n",
       "      <td>4.4</td>\n",
       "      <td>38</td>\n",
       "    </tr>\n",
       "  </tbody>\n",
       "</table>\n",
       "</div>"
      ],
      "text/plain": [
       "                            name   price  rating  discount\n",
       "0    toner-lotion-cream-lip balm   695.0     4.4        35\n",
       "1   toner-sunscreen-lotion-cream   719.0     4.4        34\n",
       "2   sustainable skin & hair care   926.0     4.4        38\n",
       "3  men pack of 2 printed tshirts  1598.0     4.2         0\n",
       "4        serum-toner-scrub-cream   636.0     4.4        35\n",
       "5     bio complete skin care kit   501.0     4.4        38\n",
       "6     toner-lotion-eye gel-cream  1030.0     4.4         0\n",
       "7  lipstick with mascara & liner  1100.0     4.4        30\n",
       "8   set of toner & scrub & cream   428.0     4.4        35\n",
       "9   skincare daily routine combo   483.0     4.4        38"
      ]
     },
     "execution_count": 72,
     "metadata": {},
     "output_type": "execute_result"
    }
   ],
   "source": [
    "data_unique.sort_values(by=\"ratingTotal\",ascending=False).head(10)[[\"name\",\"price\",\"rating\",\"discount\"]].reset_index().drop(\"index\",axis=1)"
   ]
  },
  {
   "cell_type": "markdown",
   "id": "5024b1fa-405c-458c-a01d-fbf26aa762d7",
   "metadata": {},
   "source": [
    "## Recommendation using Product-Product Similarity\n"
   ]
  },
  {
   "cell_type": "code",
   "execution_count": 7,
   "id": "96f0a621-b74a-4fa4-91ff-102d075e4916",
   "metadata": {},
   "outputs": [],
   "source": [
    "from sklearn.metrics.pairwise import cosine_similarity\n",
    "from sklearn.preprocessing import StandardScaler\n"
   ]
  },
  {
   "cell_type": "code",
   "execution_count": 8,
   "id": "6e08fde1-45f4-40e8-bff7-82619451013d",
   "metadata": {},
   "outputs": [],
   "source": [
    "data_unique = df.drop_duplicates(subset='name', keep='first')"
   ]
  },
  {
   "cell_type": "code",
   "execution_count": 9,
   "id": "d11de8e9-e27b-4bf3-a0db-37081c8f5205",
   "metadata": {},
   "outputs": [
    {
     "name": "stdout",
     "output_type": "stream",
     "text": [
      "<class 'pandas.core.frame.DataFrame'>\n",
      "Int64Index: 217738 entries, 0 to 1060204\n",
      "Data columns (total 11 columns):\n",
      " #   Column       Non-Null Count   Dtype  \n",
      "---  ------       --------------   -----  \n",
      " 0   id           217738 non-null  int64  \n",
      " 1   name         217738 non-null  object \n",
      " 2   img          217738 non-null  object \n",
      " 3   asin         217738 non-null  object \n",
      " 4   price        217738 non-null  float64\n",
      " 5   mrp          217738 non-null  float64\n",
      " 6   rating       217738 non-null  float64\n",
      " 7   ratingTotal  217738 non-null  int64  \n",
      " 8   discount     217738 non-null  int64  \n",
      " 9   seller       217738 non-null  object \n",
      " 10  purl         217738 non-null  object \n",
      "dtypes: float64(3), int64(3), object(5)\n",
      "memory usage: 19.9+ MB\n"
     ]
    }
   ],
   "source": [
    "data_unique.info()"
   ]
  },
  {
   "cell_type": "code",
   "execution_count": 143,
   "id": "f3278b54-ff50-4e72-89b8-0c5aca951248",
   "metadata": {},
   "outputs": [],
   "source": [
    "data_unique.reset_index(inplace=True)"
   ]
  },
  {
   "cell_type": "code",
   "execution_count": 147,
   "id": "669ca5de-1ae2-443c-a7f7-8cdc655f616e",
   "metadata": {},
   "outputs": [],
   "source": [
    "data_unique.drop([\"level_0\",\"index\"],axis=1,inplace=True)"
   ]
  },
  {
   "cell_type": "code",
   "execution_count": 148,
   "id": "aed727ad-92ab-4a42-b8d0-8b85a049be5b",
   "metadata": {},
   "outputs": [
    {
     "data": {
      "text/plain": [
       "211340"
      ]
     },
     "execution_count": 148,
     "metadata": {},
     "output_type": "execute_result"
    }
   ],
   "source": [
    "len(data_unique.name.unique())"
   ]
  },
  {
   "cell_type": "code",
   "execution_count": 149,
   "id": "b019c76d-d074-44e9-bc2a-3ce3c30357d5",
   "metadata": {},
   "outputs": [],
   "source": [
    "data_unique[\"name\"] = data_unique[\"name\"].apply(str.lower)"
   ]
  },
  {
   "cell_type": "code",
   "execution_count": 150,
   "id": "5003e1f9-0fc1-4e5f-b767-33ef44219d9d",
   "metadata": {},
   "outputs": [],
   "source": [
    "from sklearn.metrics.pairwise import cosine_similarity\n",
    "\n",
    "data = data_unique.head(10000)"
   ]
  },
  {
   "cell_type": "code",
   "execution_count": 126,
   "id": "e704a492-629e-4754-b986-dd302a6228c4",
   "metadata": {},
   "outputs": [],
   "source": [
    "def compute_similarity_matrix(scaled_df):\n",
    "    \n",
    "    similarity_matrix = pd.DataFrame(\n",
    "        cosine_similarity(scaled_df[['price', 'rating', 'discount']]),\n",
    "        index=scaled_df['name'],\n",
    "        columns=scaled_df['name']\n",
    "    )\n",
    "    return similarity_matrix"
   ]
  },
  {
   "cell_type": "code",
   "execution_count": 127,
   "id": "baabc48a-5ea7-4211-8a58-f985c664b945",
   "metadata": {},
   "outputs": [],
   "source": [
    "product_similarity_df = compute_similarity_matrix(data)"
   ]
  },
  {
   "cell_type": "code",
   "execution_count": 128,
   "id": "c3baddf6-0493-4396-8a46-e8ebc542733e",
   "metadata": {},
   "outputs": [],
   "source": [
    "def get_similar_products(product_name, similarity_matrix, data, top_n=5):\n",
    "    product_name = str.lower(product_name)\n",
    "    if product_name not in similarity_matrix.columns:\n",
    "        return f\"Product '{product_name}' not found in the similarity matrix.\"\n",
    "\n",
    "    similar_scores = similarity_matrix[product_name]\n",
    "    similar_products = similar_scores.sort_values(ascending=False).head(top_n + 1)\n",
    "    similar_products = similar_products.iloc[1:]\n",
    "    recommendations = data[data['name'].isin(similar_products.index)][[ \"name\", \"price\", \"rating\", \"discount\"]]\n",
    "    \n",
    "    return recommendations.reset_index().drop(\"index\",axis=1)"
   ]
  },
  {
   "cell_type": "code",
   "execution_count": 129,
   "id": "2e50b66e-16be-4e2c-b152-3adcd4a635ed",
   "metadata": {},
   "outputs": [
    {
     "name": "stdout",
     "output_type": "stream",
     "text": [
      "                                                name   price  rating  discount\n",
      "0  men self-designed slim-fit single breasted ban...  2199.0     3.0        60\n",
      "1       24k gold-plated stones-studded jewellery set  2550.0     3.8        70\n",
      "2  24k gold-plated pearl beaded handcrafted filig...  2380.0     4.2        65\n",
      "3                 men embroidered kurta with patiala  2199.0     4.5        60\n",
      "4  rhodium-plated american diamonds-studded handc...  2609.0     4.3        71\n"
     ]
    }
   ],
   "source": [
    "recommended_products = get_similar_products(\"women gold-plated necklace set\", product_similarity_df,data, top_n=5)\n",
    "print(recommended_products)"
   ]
  },
  {
   "cell_type": "code",
   "execution_count": 131,
   "id": "0d1e720d-d250-4e8e-92d1-45df63c2c0a4",
   "metadata": {},
   "outputs": [],
   "source": [
    "data.to_csv(\"data.csv\",index=False)"
   ]
  },
  {
   "cell_type": "markdown",
   "id": "7865450b-107c-4724-9d71-a9398bfea78a",
   "metadata": {},
   "source": [
    "# Recommendation System Using TFIDF Method"
   ]
  },
  {
   "cell_type": "code",
   "execution_count": 132,
   "id": "5f557642-f1db-44f2-879c-be8879a761cb",
   "metadata": {},
   "outputs": [],
   "source": [
    "from sklearn.feature_extraction.text import TfidfVectorizer\n",
    "from sklearn.metrics.pairwise import linear_kernel"
   ]
  },
  {
   "cell_type": "code",
   "execution_count": 133,
   "id": "a56599f8-70da-4dde-812d-544afba0bc86",
   "metadata": {},
   "outputs": [],
   "source": [
    "def compute_similarity(data):\n",
    "    tfidf = TfidfVectorizer(stop_words='english')\n",
    "    tfidf_matrix = tfidf.fit_transform(data['name'])\n",
    "    cosine_sim = linear_kernel(tfidf_matrix, tfidf_matrix)\n",
    "    return cosine_sim"
   ]
  },
  {
   "cell_type": "code",
   "execution_count": 134,
   "id": "1d321540-ecba-4fd6-a7f2-dbda3649160e",
   "metadata": {},
   "outputs": [],
   "source": [
    "product_similarity = compute_similarity(data)"
   ]
  },
  {
   "cell_type": "code",
   "execution_count": 155,
   "id": "106004f9-b48a-4206-8bee-80191fd07bae",
   "metadata": {},
   "outputs": [],
   "source": [
    "def recommendations(product_name):\n",
    "    if product_name not in data['name'].values:\n",
    "        return jsonify({'error': 'Product not found'}), 404\n",
    "\n",
    "    # Get index of product\n",
    "    idx = data.index[data['name'] == product_name].tolist()[0]\n",
    "\n",
    "    # Get similarity scores\n",
    "    sim_scores = list(enumerate(product_similarity[idx]))\n",
    "    sim_scores = sorted(sim_scores, key=lambda x: x[1], reverse=True)\n",
    "    sim_scores = sim_scores[1:6]\n",
    "\n",
    "    # Get product indices and return details\n",
    "    product_indices = [i[0] for i in sim_scores]\n",
    "    recommendations = data.iloc[product_indices][[ 'name', 'price', 'rating', 'discount']]\n",
    "\n",
    "    return recommendations.reset_index().drop(\"index\",axis=1) "
   ]
  },
  {
   "cell_type": "code",
   "execution_count": 158,
   "id": "7a8bf9a7-5f15-4a3f-9042-832798af911f",
   "metadata": {},
   "outputs": [
    {
     "name": "stdout",
     "output_type": "stream",
     "text": [
      "                            name   price  rating  discount\n",
      "0     women gold-plated necklace   934.0     3.2        83\n",
      "1       gold-plated necklace set  2240.0     4.5        68\n",
      "2  set of 2 gold-plated necklace   292.0     4.1        78\n",
      "3           gold-plated necklace   339.0     0.0        80\n",
      "4   24k gold plated necklace set  3000.0     4.0        75\n"
     ]
    }
   ],
   "source": [
    "recommendation = recommendations(\"women gold-plated necklace set\")\n",
    "print(recommendation)"
   ]
  },
  {
   "cell_type": "code",
   "execution_count": null,
   "id": "554ee193-c362-4304-bd29-647d37f60fd9",
   "metadata": {},
   "outputs": [],
   "source": []
  },
  {
   "cell_type": "code",
   "execution_count": null,
   "id": "94e65550-1746-4db5-986b-cb58f5e1674e",
   "metadata": {},
   "outputs": [],
   "source": []
  },
  {
   "cell_type": "code",
   "execution_count": null,
   "id": "e0fc4486-6382-4883-b972-30a2c7fbc936",
   "metadata": {},
   "outputs": [],
   "source": []
  },
  {
   "cell_type": "code",
   "execution_count": null,
   "id": "27a09e3e-b655-4559-81a4-611fe9dadb9f",
   "metadata": {},
   "outputs": [],
   "source": []
  },
  {
   "cell_type": "code",
   "execution_count": null,
   "id": "3638ec5b-992b-478e-83e9-4895995591ec",
   "metadata": {},
   "outputs": [],
   "source": []
  },
  {
   "cell_type": "code",
   "execution_count": null,
   "id": "565e2200-55f5-4ab2-8c67-bbebba0cc8af",
   "metadata": {},
   "outputs": [],
   "source": []
  },
  {
   "cell_type": "code",
   "execution_count": null,
   "id": "16d2dad0-2ec4-4b8e-a5a5-9c863ba720af",
   "metadata": {},
   "outputs": [],
   "source": []
  },
  {
   "cell_type": "code",
   "execution_count": null,
   "id": "591364ab-4309-4c57-83ef-7348aa0c84a5",
   "metadata": {},
   "outputs": [],
   "source": []
  },
  {
   "cell_type": "code",
   "execution_count": null,
   "id": "41e749f9-1d24-48aa-87b5-b15684390644",
   "metadata": {},
   "outputs": [],
   "source": []
  },
  {
   "cell_type": "code",
   "execution_count": null,
   "id": "c734b117-0b8b-4a01-ac95-97839fc6e21c",
   "metadata": {},
   "outputs": [],
   "source": []
  }
 ],
 "metadata": {
  "kernelspec": {
   "display_name": "Python 3 (ipykernel)",
   "language": "python",
   "name": "python3"
  },
  "language_info": {
   "codemirror_mode": {
    "name": "ipython",
    "version": 3
   },
   "file_extension": ".py",
   "mimetype": "text/x-python",
   "name": "python",
   "nbconvert_exporter": "python",
   "pygments_lexer": "ipython3",
   "version": "3.11.7"
  }
 },
 "nbformat": 4,
 "nbformat_minor": 5
}
